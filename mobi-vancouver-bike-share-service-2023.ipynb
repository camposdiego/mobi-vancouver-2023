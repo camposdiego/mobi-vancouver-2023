{
 "cells": [
  {
   "cell_type": "markdown",
   "id": "e0c1c116",
   "metadata": {},
   "source": [
    "In this project we will analyze the data of the more than **1,338,000** bike trips done in 2023 in the city of Vancouver, Canada using Mobi (Vancouver Bike Share service). Let's deep dive in the data to find out the following: \n",
    "\n",
    "**1. How much did people ride a bike using Mobi (in kilometers)?**\\\n",
    "**2. What were the busiest stations?**\\\n",
    "**3. Did the temperature impact peoples' choice to cycle?**\n"
   ]
  },
  {
   "cell_type": "code",
   "execution_count": 29,
   "id": "a5eeebd7",
   "metadata": {},
   "outputs": [],
   "source": [
    "# Import libraries\n",
    "import glob\n",
    "import pandas as pd\n",
    "import matplotlib.pyplot as plt\n",
    "import seaborn as sns "
   ]
  },
  {
   "cell_type": "markdown",
   "id": "376855c3",
   "metadata": {},
   "source": [
    "## Loading Data and Creating Dataframe"
   ]
  },
  {
   "cell_type": "code",
   "execution_count": 2,
   "id": "22f7ee12",
   "metadata": {},
   "outputs": [],
   "source": [
    "# Get CSV files list from a folder\n",
    "file_path = '/Users/tadi/DIEGO/Data Analysis/Data Analysis Projects/Mobi Shaw Vancouver/Mobi Datasets 2023'\n",
    "csv_files = glob.glob(file_path + \"/*.csv\")\n",
    "\n",
    "# Read each CSV file into DataFrame\n",
    "# This creates a list of dataframes\n",
    "df_list = (pd.read_csv(file, encoding = \"ISO-8859-1\", low_memory=False, parse_dates=['Departure', 'Return']) for file in csv_files)\n",
    "\n",
    "# Concatenate all DataFrames\n",
    "df = pd.concat(df_list, ignore_index=True)"
   ]
  },
  {
   "cell_type": "markdown",
   "id": "a5103d9d",
   "metadata": {},
   "source": [
    "## Exploratory Data Analysis (EDA)"
   ]
  },
  {
   "cell_type": "code",
   "execution_count": 3,
   "id": "1babecee",
   "metadata": {},
   "outputs": [
    {
     "data": {
      "text/html": [
       "<div>\n",
       "<style scoped>\n",
       "    .dataframe tbody tr th:only-of-type {\n",
       "        vertical-align: middle;\n",
       "    }\n",
       "\n",
       "    .dataframe tbody tr th {\n",
       "        vertical-align: top;\n",
       "    }\n",
       "\n",
       "    .dataframe thead th {\n",
       "        text-align: right;\n",
       "    }\n",
       "</style>\n",
       "<table border=\"1\" class=\"dataframe\">\n",
       "  <thead>\n",
       "    <tr style=\"text-align: right;\">\n",
       "      <th></th>\n",
       "      <th>Departure</th>\n",
       "      <th>Return</th>\n",
       "      <th>Electric bike</th>\n",
       "      <th>Departure station</th>\n",
       "      <th>Return station</th>\n",
       "      <th>Membership type</th>\n",
       "      <th>Covered distance (m)</th>\n",
       "      <th>Duration (sec.)</th>\n",
       "      <th>Departure temperature (C)</th>\n",
       "      <th>Return temperature (C)</th>\n",
       "      <th>Stopover duration (sec.)</th>\n",
       "      <th>Number of stopovers</th>\n",
       "      <th>Bike</th>\n",
       "    </tr>\n",
       "  </thead>\n",
       "  <tbody>\n",
       "    <tr>\n",
       "      <th>0</th>\n",
       "      <td>2023-09-01</td>\n",
       "      <td>2023-09-01</td>\n",
       "      <td>False</td>\n",
       "      <td>0137 Beach &amp; Seymour</td>\n",
       "      <td>0142 Beach &amp; Cardero</td>\n",
       "      <td>365 Day Founding Standard</td>\n",
       "      <td>1509.0</td>\n",
       "      <td>377.0</td>\n",
       "      <td>17.0</td>\n",
       "      <td>20.0</td>\n",
       "      <td>0.0</td>\n",
       "      <td>0.0</td>\n",
       "      <td>NaN</td>\n",
       "    </tr>\n",
       "    <tr>\n",
       "      <th>1</th>\n",
       "      <td>2023-09-01</td>\n",
       "      <td>2023-09-01</td>\n",
       "      <td>False</td>\n",
       "      <td>0063 Robson &amp; Granville</td>\n",
       "      <td>0217 Smithe &amp; Burrard</td>\n",
       "      <td>365 Corporate Plus Renewal</td>\n",
       "      <td>479.0</td>\n",
       "      <td>253.0</td>\n",
       "      <td>18.0</td>\n",
       "      <td>17.0</td>\n",
       "      <td>0.0</td>\n",
       "      <td>0.0</td>\n",
       "      <td>NaN</td>\n",
       "    </tr>\n",
       "    <tr>\n",
       "      <th>2</th>\n",
       "      <td>2023-09-01</td>\n",
       "      <td>2023-09-01</td>\n",
       "      <td>True</td>\n",
       "      <td>0021 Cordova &amp; Granville</td>\n",
       "      <td>0193 Science World</td>\n",
       "      <td>Community Pass E-bike (PWD)</td>\n",
       "      <td>3042.0</td>\n",
       "      <td>965.0</td>\n",
       "      <td>15.0</td>\n",
       "      <td>18.0</td>\n",
       "      <td>0.0</td>\n",
       "      <td>0.0</td>\n",
       "      <td>NaN</td>\n",
       "    </tr>\n",
       "    <tr>\n",
       "      <th>3</th>\n",
       "      <td>2023-09-01</td>\n",
       "      <td>2023-09-01</td>\n",
       "      <td>False</td>\n",
       "      <td>0105 Stanley Park - Totem Poles</td>\n",
       "      <td>0105 Stanley Park - Totem Poles</td>\n",
       "      <td>Pay Per Ride</td>\n",
       "      <td>1182.0</td>\n",
       "      <td>1415.0</td>\n",
       "      <td>17.0</td>\n",
       "      <td>16.0</td>\n",
       "      <td>0.0</td>\n",
       "      <td>0.0</td>\n",
       "      <td>NaN</td>\n",
       "    </tr>\n",
       "    <tr>\n",
       "      <th>4</th>\n",
       "      <td>2023-09-01</td>\n",
       "      <td>2023-09-01</td>\n",
       "      <td>False</td>\n",
       "      <td>0064 Expo &amp; Smithe</td>\n",
       "      <td>0053 Keefer &amp; Abbott</td>\n",
       "      <td>365 Day Pass Plus</td>\n",
       "      <td>743.0</td>\n",
       "      <td>266.0</td>\n",
       "      <td>19.0</td>\n",
       "      <td>19.0</td>\n",
       "      <td>0.0</td>\n",
       "      <td>0.0</td>\n",
       "      <td>NaN</td>\n",
       "    </tr>\n",
       "  </tbody>\n",
       "</table>\n",
       "</div>"
      ],
      "text/plain": [
       "   Departure     Return Electric bike                Departure station  \\\n",
       "0 2023-09-01 2023-09-01         False             0137 Beach & Seymour   \n",
       "1 2023-09-01 2023-09-01         False          0063 Robson & Granville   \n",
       "2 2023-09-01 2023-09-01          True         0021 Cordova & Granville   \n",
       "3 2023-09-01 2023-09-01         False  0105 Stanley Park - Totem Poles   \n",
       "4 2023-09-01 2023-09-01         False               0064 Expo & Smithe   \n",
       "\n",
       "                    Return station              Membership type  \\\n",
       "0             0142 Beach & Cardero    365 Day Founding Standard   \n",
       "1            0217 Smithe & Burrard   365 Corporate Plus Renewal   \n",
       "2               0193 Science World  Community Pass E-bike (PWD)   \n",
       "3  0105 Stanley Park - Totem Poles                 Pay Per Ride   \n",
       "4             0053 Keefer & Abbott            365 Day Pass Plus   \n",
       "\n",
       "   Covered distance (m)  Duration (sec.)  Departure temperature (C)  \\\n",
       "0                1509.0            377.0                       17.0   \n",
       "1                 479.0            253.0                       18.0   \n",
       "2                3042.0            965.0                       15.0   \n",
       "3                1182.0           1415.0                       17.0   \n",
       "4                 743.0            266.0                       19.0   \n",
       "\n",
       "   Return temperature (C)  Stopover duration (sec.)  Number of stopovers  Bike  \n",
       "0                    20.0                       0.0                  0.0   NaN  \n",
       "1                    17.0                       0.0                  0.0   NaN  \n",
       "2                    18.0                       0.0                  0.0   NaN  \n",
       "3                    16.0                       0.0                  0.0   NaN  \n",
       "4                    19.0                       0.0                  0.0   NaN  "
      ]
     },
     "execution_count": 3,
     "metadata": {},
     "output_type": "execute_result"
    }
   ],
   "source": [
    "df.head()"
   ]
  },
  {
   "cell_type": "code",
   "execution_count": 4,
   "id": "97d286e9",
   "metadata": {},
   "outputs": [
    {
     "name": "stdout",
     "output_type": "stream",
     "text": [
      "<class 'pandas.core.frame.DataFrame'>\n",
      "RangeIndex: 1503912 entries, 0 to 1503911\n",
      "Data columns (total 13 columns):\n",
      " #   Column                     Non-Null Count    Dtype         \n",
      "---  ------                     --------------    -----         \n",
      " 0   Departure                  1340331 non-null  datetime64[ns]\n",
      " 1   Return                     1340203 non-null  datetime64[ns]\n",
      " 2   Electric bike              1340331 non-null  object        \n",
      " 3   Departure station          1340305 non-null  object        \n",
      " 4   Return station             1340119 non-null  object        \n",
      " 5   Membership type            1338085 non-null  object        \n",
      " 6   Covered distance (m)       1340331 non-null  float64       \n",
      " 7   Duration (sec.)            1340331 non-null  float64       \n",
      " 8   Departure temperature (C)  1340331 non-null  float64       \n",
      " 9   Return temperature (C)     1340331 non-null  float64       \n",
      " 10  Stopover duration (sec.)   1340331 non-null  float64       \n",
      " 11  Number of stopovers        1340331 non-null  float64       \n",
      " 12  Bike                       249601 non-null   float64       \n",
      "dtypes: datetime64[ns](2), float64(7), object(4)\n",
      "memory usage: 149.2+ MB\n"
     ]
    }
   ],
   "source": [
    "df.info()"
   ]
  },
  {
   "cell_type": "code",
   "execution_count": 5,
   "id": "87c29a0b",
   "metadata": {},
   "outputs": [
    {
     "data": {
      "text/plain": [
       "Departure                     163581\n",
       "Return                        163709\n",
       "Electric bike                 163581\n",
       "Departure station             163607\n",
       "Return station                163793\n",
       "Membership type               165827\n",
       "Covered distance (m)          163581\n",
       "Duration (sec.)               163581\n",
       "Departure temperature (C)     163581\n",
       "Return temperature (C)        163581\n",
       "Stopover duration (sec.)      163581\n",
       "Number of stopovers           163581\n",
       "Bike                         1254311\n",
       "dtype: int64"
      ]
     },
     "execution_count": 5,
     "metadata": {},
     "output_type": "execute_result"
    }
   ],
   "source": [
    "# Checking for missing values\n",
    "df.isna().sum()"
   ]
  },
  {
   "cell_type": "code",
   "execution_count": 6,
   "id": "ebedac51",
   "metadata": {},
   "outputs": [
    {
     "data": {
      "text/plain": [
       "Departure                    163581\n",
       "Return                       163709\n",
       "Electric bike                163581\n",
       "Departure station            163607\n",
       "Return station               163793\n",
       "Membership type              165827\n",
       "Covered distance (m)         163581\n",
       "Duration (sec.)              163581\n",
       "Departure temperature (C)    163581\n",
       "Return temperature (C)       163581\n",
       "Stopover duration (sec.)     163581\n",
       "Number of stopovers          163581\n",
       "dtype: int64"
      ]
     },
     "execution_count": 6,
     "metadata": {},
     "output_type": "execute_result"
    }
   ],
   "source": [
    "# Droping Bike column missing more than 80% of the values\n",
    "df.drop(columns='Bike', inplace=True)\n",
    "df.isna().sum()"
   ]
  },
  {
   "cell_type": "code",
   "execution_count": 7,
   "id": "5a9174b0",
   "metadata": {},
   "outputs": [
    {
     "data": {
      "text/plain": [
       "Departure                       0\n",
       "Return                          0\n",
       "Electric bike                   0\n",
       "Departure station              26\n",
       "Return station                 84\n",
       "Membership type              2118\n",
       "Covered distance (m)            0\n",
       "Duration (sec.)                 0\n",
       "Departure temperature (C)       0\n",
       "Return temperature (C)          0\n",
       "Stopover duration (sec.)        0\n",
       "Number of stopovers             0\n",
       "dtype: int64"
      ]
     },
     "execution_count": 7,
     "metadata": {},
     "output_type": "execute_result"
    }
   ],
   "source": [
    "# Drop rows missing Departure or Return date. Missing any of these dates there are no other relevante data\n",
    "df.dropna(subset=['Departure', 'Return'], inplace=True)\n",
    "df.isna().sum()"
   ]
  },
  {
   "cell_type": "code",
   "execution_count": 8,
   "id": "f5026665",
   "metadata": {},
   "outputs": [
    {
     "data": {
      "text/plain": [
       "Departure                    0\n",
       "Return                       0\n",
       "Electric bike                0\n",
       "Departure station            0\n",
       "Return station               0\n",
       "Membership type              0\n",
       "Covered distance (m)         0\n",
       "Duration (sec.)              0\n",
       "Departure temperature (C)    0\n",
       "Return temperature (C)       0\n",
       "Stopover duration (sec.)     0\n",
       "Number of stopovers          0\n",
       "dtype: int64"
      ]
     },
     "execution_count": 8,
     "metadata": {},
     "output_type": "execute_result"
    }
   ],
   "source": [
    "# Drop rows missing Departure station, Return station, and Membership type\n",
    "df.dropna(subset=['Departure station', 'Return station', 'Membership type'], inplace=True)\n",
    "df.isna().sum()"
   ]
  },
  {
   "cell_type": "code",
   "execution_count": 9,
   "id": "3efe3dda",
   "metadata": {},
   "outputs": [
    {
     "name": "stdout",
     "output_type": "stream",
     "text": [
      "<class 'pandas.core.frame.DataFrame'>\n",
      "Int64Index: 1338001 entries, 0 to 1503911\n",
      "Data columns (total 12 columns):\n",
      " #   Column                     Non-Null Count    Dtype         \n",
      "---  ------                     --------------    -----         \n",
      " 0   Departure                  1338001 non-null  datetime64[ns]\n",
      " 1   Return                     1338001 non-null  datetime64[ns]\n",
      " 2   Electric bike              1338001 non-null  object        \n",
      " 3   Departure station          1338001 non-null  object        \n",
      " 4   Return station             1338001 non-null  object        \n",
      " 5   Membership type            1338001 non-null  object        \n",
      " 6   Covered distance (m)       1338001 non-null  float64       \n",
      " 7   Duration (sec.)            1338001 non-null  float64       \n",
      " 8   Departure temperature (C)  1338001 non-null  float64       \n",
      " 9   Return temperature (C)     1338001 non-null  float64       \n",
      " 10  Stopover duration (sec.)   1338001 non-null  float64       \n",
      " 11  Number of stopovers        1338001 non-null  float64       \n",
      "dtypes: datetime64[ns](2), float64(6), object(4)\n",
      "memory usage: 132.7+ MB\n"
     ]
    }
   ],
   "source": [
    "# Checking dataframe\n",
    "df.info()"
   ]
  },
  {
   "cell_type": "code",
   "execution_count": 10,
   "id": "9f66796f",
   "metadata": {},
   "outputs": [
    {
     "name": "stdout",
     "output_type": "stream",
     "text": [
      "Numbers of stations 273\n"
     ]
    }
   ],
   "source": [
    "print(f'Numbers of stations {df[\"Departure station\"].nunique()}')"
   ]
  },
  {
   "cell_type": "markdown",
   "id": "dff2142a",
   "metadata": {},
   "source": [
    "**1. How much did people ride a bike using Mobi?**"
   ]
  },
  {
   "cell_type": "code",
   "execution_count": 11,
   "id": "c2f1c553",
   "metadata": {},
   "outputs": [
    {
     "name": "stdout",
     "output_type": "stream",
     "text": [
      "Total distance traveled in 2023 was 3,768,867.85 kilometers\n"
     ]
    }
   ],
   "source": [
    "dist_travel_km = round(df[\"Covered distance (m)\"].sum() / 1000, 2)\n",
    "print(f'Total distance traveled in 2023 was {dist_travel_km :,} kilometers')"
   ]
  },
  {
   "cell_type": "markdown",
   "id": "1902ef7c",
   "metadata": {},
   "source": [
    "## Analyzing Data"
   ]
  },
  {
   "cell_type": "markdown",
   "id": "40a74e0b",
   "metadata": {},
   "source": [
    "**2. What were the busiest departure and return stations?**"
   ]
  },
  {
   "cell_type": "code",
   "execution_count": 12,
   "id": "a7c59826",
   "metadata": {},
   "outputs": [
    {
     "data": {
      "text/plain": [
       "Departure station\n",
       "0209 Stanley Park - Information Booth           1.0\n",
       "0105 Stanley Park - Totem Poles                 2.0\n",
       "0028 Davie & Beach                              3.0\n",
       "0102 Stanley Park - Second Beach North          4.0\n",
       "0103 Stanley Park - Third Beach Parking Lot     5.0\n",
       "0104 Stanley Park - Second Beach South          6.0\n",
       "0187 Bute & Davie                               7.0\n",
       "0196 Hornby & Drake                             8.0\n",
       "0193 Science World                              9.0\n",
       "0189 Granville Island                          10.0\n",
       "dtype: float64"
      ]
     },
     "execution_count": 12,
     "metadata": {},
     "output_type": "execute_result"
    }
   ],
   "source": [
    "# Trips per station. Which were the busiest departure stations?\n",
    "df.value_counts(\"Departure station\").head(10).rank(ascending=False)"
   ]
  },
  {
   "cell_type": "code",
   "execution_count": 13,
   "id": "30ae31d5",
   "metadata": {},
   "outputs": [
    {
     "data": {
      "text/plain": [
       "Return station\n",
       "0209 Stanley Park - Information Booth           1.0\n",
       "0028 Davie & Beach                              2.0\n",
       "0102 Stanley Park - Second Beach North          3.0\n",
       "0103 Stanley Park - Third Beach Parking Lot     4.0\n",
       "0105 Stanley Park - Totem Poles                 5.0\n",
       "0104 Stanley Park - Second Beach South          6.0\n",
       "0189 Granville Island                           7.0\n",
       "0011 Ontario & Seawall                          8.0\n",
       "0193 Science World                              9.0\n",
       "0014 Canada Place                              10.0\n",
       "dtype: float64"
      ]
     },
     "execution_count": 13,
     "metadata": {},
     "output_type": "execute_result"
    }
   ],
   "source": [
    "# Trips per station. Which were the busiest return stations?\n",
    "df.value_counts(\"Return station\").head(10).rank(ascending=False)"
   ]
  },
  {
   "cell_type": "code",
   "execution_count": 14,
   "id": "0a144f0e",
   "metadata": {},
   "outputs": [
    {
     "data": {
      "text/plain": [
       "Month\n",
       "1      48027\n",
       "2      45764\n",
       "3      72465\n",
       "4      74885\n",
       "5     140171\n",
       "6     157688\n",
       "7     201263\n",
       "8     192161\n",
       "9     156016\n",
       "10    110782\n",
       "11     78793\n",
       "12     59986\n",
       "Name: Departure, dtype: int64"
      ]
     },
     "execution_count": 14,
     "metadata": {},
     "output_type": "execute_result"
    }
   ],
   "source": [
    "# Trips per month\n",
    "df['Month'] = df['Departure'].dt.month\n",
    "trips_month = df.groupby('Month')['Departure'].count()\n",
    "trips_month"
   ]
  },
  {
   "cell_type": "code",
   "execution_count": 46,
   "id": "c132c881",
   "metadata": {},
   "outputs": [
    {
     "data": {
      "image/png": "[encoded data removed]",
      "text/plain": [
       "<Figure size 640x480 with 1 Axes>"
      ]
     },
     "metadata": {},
     "output_type": "display_data"
    }
   ],
   "source": [
    "# Trips per month\n",
    "g1 = sns.countplot(data=df, x='Month')\n",
    "g1.set_title(\"Total Trips per Month\")\n",
    "g1.set(ylabel=\"Number of trips\")\n",
    "sns.set_style(\"whitegrid\")\n",
    "plt.show()"
   ]
  },
  {
   "cell_type": "code",
   "execution_count": 45,
   "id": "2622774c",
   "metadata": {},
   "outputs": [
    {
     "data": {
      "image/png": "[encoded data removed]",
      "text/plain": [
       "<Figure size 640x480 with 1 Axes>"
      ]
     },
     "metadata": {},
     "output_type": "display_data"
    }
   ],
   "source": [
    "# Trips pe season\n",
    "# Create a dictionary to map month to season\n",
    "seasons = {1: 'Winter',\n",
    "           2: 'Winter',\n",
    "           3: 'Winter',\n",
    "           4: 'Spring',\n",
    "           5: 'Spring',\n",
    "           6: 'Spring',\n",
    "           7: 'Summer',\n",
    "           8: 'Summer',\n",
    "           9: 'Summer',\n",
    "           10:'Fall',\n",
    "           11:'Fall',\n",
    "           12:'Fall'\n",
    "          }\n",
    "df['Season'] = df['Month'].map(seasons)\n",
    "g2 = sns.countplot(data=df, x='Season', order=['Winter', 'Spring', 'Summer', 'Fall'])\n",
    "g2.set_title(\"Total Trips per Season\")\n",
    "g2.set(ylabel=\"Number of trips\")\n",
    "plt.show()"
   ]
  },
  {
   "cell_type": "code",
   "execution_count": 17,
   "id": "9d29883d",
   "metadata": {},
   "outputs": [
    {
     "name": "stdout",
     "output_type": "stream",
     "text": [
      "Total time riding 27,898,601.73 hours\n"
     ]
    }
   ],
   "source": [
    "# Time spent riding \n",
    "duration_h = round(df['Duration (sec.)'].sum() / 60, 2)\n",
    "print(f'Total time riding {duration_h :,} hours')"
   ]
  },
  {
   "cell_type": "code",
   "execution_count": 18,
   "id": "4a4bb5cb",
   "metadata": {},
   "outputs": [
    {
     "data": {
      "text/plain": [
       "Membership type\n",
       "Pay Per Ride                           284406\n",
       "365 Day Pass Standard                  199106\n",
       "30 Day Pass                            170718\n",
       "365 Day Pass Plus                      131538\n",
       "24 Hour                                117910\n",
       "365 Corporate Plus Renewal              52058\n",
       "365 Corporate Plus                      49172\n",
       "365 Day Pass Plus SALE                  47067\n",
       "365 Corporate Standard                  42441\n",
       "365 Day Pass Standard SALE              40477\n",
       "Community Pass                          36425\n",
       "VIP                                     34428\n",
       "Community Pass E-bike                   31319\n",
       "Community Pass E-bike (PWD)             30897\n",
       "365 Corporate Standard Renewal          23595\n",
       "365 Day Founding Standard               20477\n",
       "365 Day Founding Plus                   20360\n",
       "UBC Inclusive Corporate Pass             3880\n",
       "Archived Monthly Standard                 770\n",
       "Herbaland Pass                            377\n",
       "Archived Monthly Plus                     327\n",
       "Maintenance                               128\n",
       "VIP Tour E-bike                            91\n",
       "VIP Tour                                   22\n",
       "Limited Classic Bikes Only (30 min)        12\n",
       "Name: Membership type, dtype: int64"
      ]
     },
     "execution_count": 18,
     "metadata": {},
     "output_type": "execute_result"
    }
   ],
   "source": [
    "# Memberships type per ride\n",
    "memb = df.groupby('Membership type')['Membership type'].count().sort_values(ascending=False)\n",
    "memb"
   ]
  },
  {
   "cell_type": "code",
   "execution_count": 47,
   "id": "1ebee101",
   "metadata": {},
   "outputs": [
    {
     "data": {
      "image/png": "[encoded data removed]",
      "text/plain": [
       "<Figure size 640x480 with 1 Axes>"
      ]
     },
     "metadata": {},
     "output_type": "display_data"
    }
   ],
   "source": [
    "# Monthly average distance (km) per ride\n",
    "dist_month = df.groupby(\"Month\")['Covered distance (m)'].mean()/1000 # Distance in kilometers\n",
    "g3 = dist_month.plot.bar() \n",
    "g3.set_title('Monthly Average Distance (km) Cycled per Trip')\n",
    "plt.xticks(rotation=0)\n",
    "g3.set(ylabel='Kilometers')\n",
    "plt.show()"
   ]
  },
  {
   "cell_type": "code",
   "execution_count": 20,
   "id": "f1aa527a",
   "metadata": {},
   "outputs": [
    {
     "data": {
      "text/plain": [
       "Departure temperature (C)\n",
       "-9.0     5.095000\n",
       "-8.0     2.826750\n",
       "-7.0     1.791043\n",
       "-6.0     2.233550\n",
       "-5.0     2.301963\n",
       "           ...   \n",
       " 47.0    3.187083\n",
       " 48.0    2.339905\n",
       " 49.0    2.689188\n",
       " 50.0    0.997667\n",
       " 51.0    0.071000\n",
       "Name: Covered distance (m), Length: 61, dtype: float64"
      ]
     },
     "execution_count": 20,
     "metadata": {},
     "output_type": "execute_result"
    }
   ],
   "source": [
    "# Did people ride more on high temperature days or less on cold days?\n",
    "dist_by_temp = df.groupby(\"Departure temperature (C)\")['Covered distance (m)'].mean()/1000 # Distance in kilometers\n",
    "dist_by_temp"
   ]
  },
  {
   "cell_type": "markdown",
   "id": "f0cff2d4",
   "metadata": {},
   "source": [
    "### Temperature registered does not seems to be reliable. By official source maximum temperature in Vancouver in 2023 was 29.3°C and minimum was -3.2°C.\n",
    "Source: https://climate.weather.gc.ca/climate_data/daily_data_e.html"
   ]
  },
  {
   "cell_type": "code",
   "execution_count": 21,
   "id": "5f22bd06",
   "metadata": {},
   "outputs": [
    {
     "data": {
      "text/html": [
       "<div>\n",
       "<style scoped>\n",
       "    .dataframe tbody tr th:only-of-type {\n",
       "        vertical-align: middle;\n",
       "    }\n",
       "\n",
       "    .dataframe tbody tr th {\n",
       "        vertical-align: top;\n",
       "    }\n",
       "\n",
       "    .dataframe thead th {\n",
       "        text-align: right;\n",
       "    }\n",
       "</style>\n",
       "<table border=\"1\" class=\"dataframe\">\n",
       "  <thead>\n",
       "    <tr style=\"text-align: right;\">\n",
       "      <th></th>\n",
       "      <th>Departure</th>\n",
       "      <th>Return</th>\n",
       "      <th>Electric bike</th>\n",
       "      <th>Departure station</th>\n",
       "      <th>Return station</th>\n",
       "      <th>Membership type</th>\n",
       "      <th>Covered distance (m)</th>\n",
       "      <th>Duration (sec.)</th>\n",
       "      <th>Departure temperature (C)</th>\n",
       "      <th>Return temperature (C)</th>\n",
       "      <th>Stopover duration (sec.)</th>\n",
       "      <th>Number of stopovers</th>\n",
       "      <th>Month</th>\n",
       "      <th>Season</th>\n",
       "      <th>Max Temp (°C)</th>\n",
       "      <th>Min Temp (°C)</th>\n",
       "      <th>Mean Temp (°C)</th>\n",
       "    </tr>\n",
       "  </thead>\n",
       "  <tbody>\n",
       "    <tr>\n",
       "      <th>0</th>\n",
       "      <td>2023-09-01</td>\n",
       "      <td>2023-09-01</td>\n",
       "      <td>False</td>\n",
       "      <td>0137 Beach &amp; Seymour</td>\n",
       "      <td>0142 Beach &amp; Cardero</td>\n",
       "      <td>365 Day Founding Standard</td>\n",
       "      <td>1509.0</td>\n",
       "      <td>377.0</td>\n",
       "      <td>17.0</td>\n",
       "      <td>20.0</td>\n",
       "      <td>0.0</td>\n",
       "      <td>0.0</td>\n",
       "      <td>9</td>\n",
       "      <td>Summer</td>\n",
       "      <td>22.5</td>\n",
       "      <td>13.3</td>\n",
       "      <td>17.9</td>\n",
       "    </tr>\n",
       "    <tr>\n",
       "      <th>1</th>\n",
       "      <td>2023-09-01</td>\n",
       "      <td>2023-09-01</td>\n",
       "      <td>False</td>\n",
       "      <td>0063 Robson &amp; Granville</td>\n",
       "      <td>0217 Smithe &amp; Burrard</td>\n",
       "      <td>365 Corporate Plus Renewal</td>\n",
       "      <td>479.0</td>\n",
       "      <td>253.0</td>\n",
       "      <td>18.0</td>\n",
       "      <td>17.0</td>\n",
       "      <td>0.0</td>\n",
       "      <td>0.0</td>\n",
       "      <td>9</td>\n",
       "      <td>Summer</td>\n",
       "      <td>22.5</td>\n",
       "      <td>13.3</td>\n",
       "      <td>17.9</td>\n",
       "    </tr>\n",
       "    <tr>\n",
       "      <th>2</th>\n",
       "      <td>2023-09-01</td>\n",
       "      <td>2023-09-01</td>\n",
       "      <td>True</td>\n",
       "      <td>0021 Cordova &amp; Granville</td>\n",
       "      <td>0193 Science World</td>\n",
       "      <td>Community Pass E-bike (PWD)</td>\n",
       "      <td>3042.0</td>\n",
       "      <td>965.0</td>\n",
       "      <td>15.0</td>\n",
       "      <td>18.0</td>\n",
       "      <td>0.0</td>\n",
       "      <td>0.0</td>\n",
       "      <td>9</td>\n",
       "      <td>Summer</td>\n",
       "      <td>22.5</td>\n",
       "      <td>13.3</td>\n",
       "      <td>17.9</td>\n",
       "    </tr>\n",
       "    <tr>\n",
       "      <th>3</th>\n",
       "      <td>2023-09-01</td>\n",
       "      <td>2023-09-01</td>\n",
       "      <td>False</td>\n",
       "      <td>0105 Stanley Park - Totem Poles</td>\n",
       "      <td>0105 Stanley Park - Totem Poles</td>\n",
       "      <td>Pay Per Ride</td>\n",
       "      <td>1182.0</td>\n",
       "      <td>1415.0</td>\n",
       "      <td>17.0</td>\n",
       "      <td>16.0</td>\n",
       "      <td>0.0</td>\n",
       "      <td>0.0</td>\n",
       "      <td>9</td>\n",
       "      <td>Summer</td>\n",
       "      <td>22.5</td>\n",
       "      <td>13.3</td>\n",
       "      <td>17.9</td>\n",
       "    </tr>\n",
       "    <tr>\n",
       "      <th>4</th>\n",
       "      <td>2023-09-01</td>\n",
       "      <td>2023-09-01</td>\n",
       "      <td>False</td>\n",
       "      <td>0064 Expo &amp; Smithe</td>\n",
       "      <td>0053 Keefer &amp; Abbott</td>\n",
       "      <td>365 Day Pass Plus</td>\n",
       "      <td>743.0</td>\n",
       "      <td>266.0</td>\n",
       "      <td>19.0</td>\n",
       "      <td>19.0</td>\n",
       "      <td>0.0</td>\n",
       "      <td>0.0</td>\n",
       "      <td>9</td>\n",
       "      <td>Summer</td>\n",
       "      <td>22.5</td>\n",
       "      <td>13.3</td>\n",
       "      <td>17.9</td>\n",
       "    </tr>\n",
       "  </tbody>\n",
       "</table>\n",
       "</div>"
      ],
      "text/plain": [
       "   Departure     Return Electric bike                Departure station  \\\n",
       "0 2023-09-01 2023-09-01         False             0137 Beach & Seymour   \n",
       "1 2023-09-01 2023-09-01         False          0063 Robson & Granville   \n",
       "2 2023-09-01 2023-09-01          True         0021 Cordova & Granville   \n",
       "3 2023-09-01 2023-09-01         False  0105 Stanley Park - Totem Poles   \n",
       "4 2023-09-01 2023-09-01         False               0064 Expo & Smithe   \n",
       "\n",
       "                    Return station              Membership type  \\\n",
       "0             0142 Beach & Cardero    365 Day Founding Standard   \n",
       "1            0217 Smithe & Burrard   365 Corporate Plus Renewal   \n",
       "2               0193 Science World  Community Pass E-bike (PWD)   \n",
       "3  0105 Stanley Park - Totem Poles                 Pay Per Ride   \n",
       "4             0053 Keefer & Abbott            365 Day Pass Plus   \n",
       "\n",
       "   Covered distance (m)  Duration (sec.)  Departure temperature (C)  \\\n",
       "0                1509.0            377.0                       17.0   \n",
       "1                 479.0            253.0                       18.0   \n",
       "2                3042.0            965.0                       15.0   \n",
       "3                1182.0           1415.0                       17.0   \n",
       "4                 743.0            266.0                       19.0   \n",
       "\n",
       "   Return temperature (C)  Stopover duration (sec.)  Number of stopovers  \\\n",
       "0                    20.0                       0.0                  0.0   \n",
       "1                    17.0                       0.0                  0.0   \n",
       "2                    18.0                       0.0                  0.0   \n",
       "3                    16.0                       0.0                  0.0   \n",
       "4                    19.0                       0.0                  0.0   \n",
       "\n",
       "   Month  Season  Max Temp (°C)  Min Temp (°C)  Mean Temp (°C)  \n",
       "0      9  Summer           22.5           13.3            17.9  \n",
       "1      9  Summer           22.5           13.3            17.9  \n",
       "2      9  Summer           22.5           13.3            17.9  \n",
       "3      9  Summer           22.5           13.3            17.9  \n",
       "4      9  Summer           22.5           13.3            17.9  "
      ]
     },
     "execution_count": 21,
     "metadata": {},
     "output_type": "execute_result"
    }
   ],
   "source": [
    "# Merging oficial temperature records to dataframe\n",
    "ofc_temp = pd.read_csv('/Users/tadi/DIEGO/Data Analysis/Data Analysis Projects/Mobi Shaw Vancouver/en_climate_daily_BC_1108446_2023_P1D.csv', usecols= ['Date/Time', 'Max Temp (°C)', 'Min Temp (°C)', 'Mean Temp (°C)'], parse_dates=['Date/Time'])\n",
    "ofc_temp.rename(columns={\"Date/Time\": \"Departure\"}, inplace=True) # Renaming temperature dataframe column name to match Mobi dataframe column name\n",
    "df_ofc_temp = pd.merge(df, ofc_temp, on='Departure')\n",
    "df_ofc_temp.head()"
   ]
  },
  {
   "cell_type": "code",
   "execution_count": 22,
   "id": "3aaab85e",
   "metadata": {},
   "outputs": [
    {
     "data": {
      "text/plain": [
       "Mean Temp (°C)\n",
       "-1.5     1.711333\n",
       " 0.2     1.813875\n",
       " 0.7     1.705577\n",
       " 1.0     1.521900\n",
       " 1.3     1.602300\n",
       "           ...   \n",
       " 22.4    2.440357\n",
       " 22.6    2.680673\n",
       " 22.7    2.233148\n",
       " 22.9    2.915992\n",
       " 23.0    2.702300\n",
       "Name: Covered distance (m), Length: 168, dtype: float64"
      ]
     },
     "execution_count": 22,
     "metadata": {},
     "output_type": "execute_result"
    }
   ],
   "source": [
    "# Does people ride more on high temperature days or less on cold days? Redoing analysis using official temperature records\n",
    "# Using day mean average temperature for the simplicity of this project \n",
    "avg_dist_temp = df_ofc_temp.groupby(\"Mean Temp (°C)\")['Covered distance (m)'].mean() / 1000\n",
    "avg_dist_temp"
   ]
  },
  {
   "cell_type": "code",
   "execution_count": 51,
   "id": "59cc70a6",
   "metadata": {},
   "outputs": [
    {
     "data": {
      "image/png": "[encoded data removed]",
      "text/plain": [
       "<Figure size 1000x500 with 1 Axes>"
      ]
     },
     "metadata": {},
     "output_type": "display_data"
    }
   ],
   "source": [
    "fig, ax = plt.subplots(figsize=(10,5))\n",
    "avg_dist_temp.plot()\n",
    "ax.set_title(\"Average Distance Cycled per Average Day Temperature\")\n",
    "ax.set(ylabel=\"Kilometers\",\n",
    "       xlabel=\"Average Day Temperature\")\n",
    "plt.show()"
   ]
  },
  {
   "cell_type": "markdown",
   "id": "52e05af9",
   "metadata": {},
   "source": [
    "**3. Did the temperature impact peoples' choice to cycle?**\n",
    "\n",
    "As showed on the fisrt two charts, there is a significant increase in the number of trips during summer time in relation to winter, althought the average distance rode had little change regardless the day average temperature. "
   ]
  }
 ],
 "metadata": {
  "kernelspec": {
   "display_name": "Python 3 (ipykernel)",
   "language": "python",
   "name": "python3"
  },
  "language_info": {
   "codemirror_mode": {
    "name": "ipython",
    "version": 3
   },
   "file_extension": ".py",
   "mimetype": "text/x-python",
   "name": "python",
   "nbconvert_exporter": "python",
   "pygments_lexer": "ipython3",
   "version": "3.9.13"
  }
 },
 "nbformat": 4,
 "nbformat_minor": 5
}
